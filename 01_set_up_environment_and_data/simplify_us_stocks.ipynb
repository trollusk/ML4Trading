{
 "cells": [
  {
   "cell_type": "code",
   "execution_count": 35,
   "id": "9b5c94f4-d83a-4c82-8ba2-a704b5710db0",
   "metadata": {},
   "outputs": [],
   "source": [
    "import pandas as pd\n",
    "stocks = pd.read_csv(\"us_stocks.csv\")"
   ]
  },
  {
   "cell_type": "code",
   "execution_count": 36,
   "id": "70ee82a9-0724-477d-b91e-494c62ae1f78",
   "metadata": {},
   "outputs": [],
   "source": [
    "stocks[\"date\"] = pd.to_datetime(stocks[\"date\"])"
   ]
  },
  {
   "cell_type": "code",
   "execution_count": 38,
   "id": "bea189c4-9d5d-4a56-98f8-74c880f839e6",
   "metadata": {},
   "outputs": [],
   "source": [
    "stocks[\"year\"] = stocks[\"date\"].dt.year"
   ]
  },
  {
   "cell_type": "code",
   "execution_count": 39,
   "id": "4cf80bb0-74d9-49ac-92de-cbd4ed872060",
   "metadata": {},
   "outputs": [],
   "source": [
    "stocks = stocks.set_index([\"ticker\", \"date\"])"
   ]
  },
  {
   "cell_type": "code",
   "execution_count": 40,
   "id": "d438ea67-4fbf-404c-a7c1-63b0c5a65a86",
   "metadata": {},
   "outputs": [],
   "source": [
    "stocks = stocks[stocks.columns[~stocks.columns.isin([\"open\", \"high\", \"low\", \"close\", \"volume\"])]]"
   ]
  },
  {
   "cell_type": "code",
   "execution_count": 41,
   "id": "aec565b9-2f3f-4dcb-a596-3b4c289af90d",
   "metadata": {},
   "outputs": [],
   "source": [
    "stocks = stocks.rename(columns={\"adj_open\": \"open\", \"adj_high\": \"high\", \"adj_low\": \"low\", \"adj_close\": \"close\", \"adj_volume\": \"volume\"})"
   ]
  },
  {
   "cell_type": "code",
   "execution_count": 44,
   "id": "579a53ac-8230-4537-a8e6-52c1fefd7eac",
   "metadata": {},
   "outputs": [],
   "source": [
    "stocks = stocks[stocks[\"year\"] >= 2000]"
   ]
  },
  {
   "cell_type": "code",
   "execution_count": 45,
   "id": "b977a480-0829-4486-85cf-748642ae299c",
   "metadata": {},
   "outputs": [],
   "source": [
    "stocks.to_hdf(\"us_stocks.h5\", key=\"us_stocks\", mode='w')"
   ]
  },
  {
   "cell_type": "code",
   "execution_count": null,
   "id": "4f6f0ea7-c9b8-4a3a-92a4-5c05197e1d2a",
   "metadata": {},
   "outputs": [],
   "source": []
  }
 ],
 "metadata": {
  "kernelspec": {
   "display_name": "Python 3 (ipykernel)",
   "language": "python",
   "name": "python3"
  },
  "language_info": {
   "codemirror_mode": {
    "name": "ipython",
    "version": 3
   },
   "file_extension": ".py",
   "mimetype": "text/x-python",
   "name": "python",
   "nbconvert_exporter": "python",
   "pygments_lexer": "ipython3",
   "version": "3.10.14"
  }
 },
 "nbformat": 4,
 "nbformat_minor": 5
}
